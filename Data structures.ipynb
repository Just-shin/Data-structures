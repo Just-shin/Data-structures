{
 "cells": [
  {
   "cell_type": "markdown",
   "metadata": {},
   "source": [
    "1. Discuss string slicing and provide examples.\n",
    "\n",
    "Answer - \n",
    "    String slicing is a technique used to extract a portion of a string based on specified indices. This is particularly useful in programming languages like Python.\n",
    "    There's many types of string slicing they are : basic syntax, omitting indices, negative indices, step parameter. String slicing is a powerful tool for manipulating text data efficiently.\n"
   ]
  },
  {
   "cell_type": "code",
   "execution_count": 16,
   "metadata": {},
   "outputs": [
    {
     "name": "stdout",
     "output_type": "stream",
     "text": [
      "Cafe,\n"
     ]
    }
   ],
   "source": [
    "#Basic syntax >> [start:end] will return a substring starting from the index start and ending at the index end - 1.\n",
    "text = \"Cafe, Coffee\"\n",
    "print(text[0:5])"
   ]
  },
  {
   "cell_type": "code",
   "execution_count": 2,
   "metadata": {},
   "outputs": [
    {
     "name": "stdout",
     "output_type": "stream",
     "text": [
      "Cafe,\n",
      "offee\n"
     ]
    }
   ],
   "source": [
    "#Omitting indices >> omitting the start index, slicing will begin from the start of the string, and if omit the end index, slicing will go to the end of the string.\n",
    "print(text[:5])\n",
    "print(text[7:])"
   ]
  },
  {
   "cell_type": "code",
   "execution_count": 17,
   "metadata": {},
   "outputs": [
    {
     "data": {
      "text/plain": [
       "7"
      ]
     },
     "execution_count": 17,
     "metadata": {},
     "output_type": "execute_result"
    }
   ],
   "source": [
    "a = \"Justone\"\n",
    "len(a)"
   ]
  },
  {
   "cell_type": "code",
   "execution_count": 3,
   "metadata": {},
   "outputs": [
    {
     "name": "stdout",
     "output_type": "stream",
     "text": [
      "Coffe\n"
     ]
    }
   ],
   "source": [
    "#Negative indices >> using negative indices to slice from the end of the string.\n",
    "print(text[-6:-1])"
   ]
  },
  {
   "cell_type": "code",
   "execution_count": 1,
   "metadata": {},
   "outputs": [
    {
     "name": "stdout",
     "output_type": "stream",
     "text": [
      "eeffoC ,efaC\n"
     ]
    }
   ],
   "source": [
    "text = \"Cafe, Coffee\" #reversing a string by using a negative indices\n",
    "print(text[::-1])"
   ]
  },
  {
   "cell_type": "code",
   "execution_count": 4,
   "metadata": {},
   "outputs": [
    {
     "name": "stdout",
     "output_type": "stream",
     "text": [
      "Cf,Cfe\n"
     ]
    }
   ],
   "source": [
    "#Step parameter >> to specify the interval between characters in the slice.\n",
    "print(text[::2])"
   ]
  },
  {
   "cell_type": "markdown",
   "metadata": {},
   "source": [
    "Q- 2&3. Explain the key features of lists in Python and describe how to access, modify, and delete and elements in a list with examples.\n",
    "\n",
    "Answer -\n",
    "    List is versatile and commonly used. The key fetaures of list are - Ordered(can be of any data type like integers, strings other lists), mutable( can change after creation), \n",
    "    dynamic size(can perform operations like adding, removing aand sorting of elements), allow duplicates, heterogeneous elements, indexing and slicing, comprehension methods, lists comprehension.\n",
    "    These features make lists a fundamental and widely-used data structure in Python.\n",
    "    "
   ]
  },
  {
   "cell_type": "code",
   "execution_count": 15,
   "metadata": {},
   "outputs": [
    {
     "name": "stdout",
     "output_type": "stream",
     "text": [
      "The alphabet starts with: a\n"
     ]
    }
   ],
   "source": [
    "#Ordered >> order of elements means items have a defined sequence, and this order will not change unless explicitly modified.\n",
    "alphabet = ['a', 'b', 'c', 'd', 'e']\n",
    "print(\"The alphabet starts with:\", alphabet[0]) #accessing element >> indexing and it maintain the sequence"
   ]
  },
  {
   "cell_type": "code",
   "execution_count": 37,
   "metadata": {},
   "outputs": [
    {
     "name": "stdout",
     "output_type": "stream",
     "text": [
      "Updated list of state: ['Sikkim', 'Nagaland', 'Assam', 'Manipur']\n",
      "Sikkim\n",
      "Nagaland\n",
      "Assam\n",
      "Manipur\n",
      "original state\n",
      "['Sikkim', 'Nagaland', 'Assam', 'Mizoram']\n",
      "\n",
      "New state\n",
      "['Arunachal Pradesh', 'Nagaland', 'Assam', 'Manipur']\n"
     ]
    }
   ],
   "source": [
    "#Mutable >> can add, remove or modify elements\n",
    "state = [\"Sikkim\", \"Nagaland\", \"Assam\", \"Mizoram\"]\n",
    "state.append(\"Manipur\") #append adds new element in the list\n",
    "state.remove(\"Mizoram\") # remove\n",
    "print(\"Updated list of state:\", state)\n",
    "for s in state:\n",
    "    print(s)\n",
    "#modifying\n",
    "state = [\"Sikkim\", \"Nagaland\", \"Assam\", \"Mizoram\"]\n",
    "print(\"original state\")\n",
    "print(state)\n",
    "state[0] = \"Arunachal Pradesh\"\n",
    "state[-1] = \"Manipur\"\n",
    "print(\"\\nNew state\")\n",
    "print(state)"
   ]
  },
  {
   "cell_type": "code",
   "execution_count": 40,
   "metadata": {},
   "outputs": [
    {
     "name": "stdout",
     "output_type": "stream",
     "text": [
      "[1, 2, 2, 3, 4, 4, 4]\n",
      "[1, 'PWskills', 5.18, [5, 6, 7]]\n",
      "[1, 2, 3, 4]\n",
      "[1, 3, 4]\n",
      "20\n",
      "[20, 30, 40]\n",
      "[1, 1, 2, 3, 4, 5, 9, 11]\n",
      "[0, 1, 8, 27, 64, 125, 216, 343]\n"
     ]
    }
   ],
   "source": [
    "#Allow duplicates\n",
    "my_list = [1, 2, 2, 3, 4, 4, 4]\n",
    "print(my_list)\n",
    "\n",
    "#heterogeneous elelments\n",
    "my_list = [1, \"PWskills\", 5.18, [5, 6, 7]]\n",
    "print(my_list)\n",
    "\n",
    "#dynamic size\n",
    "my_list = [1, 2, 3]\n",
    "my_list.append(4)\n",
    "print(my_list)\n",
    "my_list.remove(2)\n",
    "print(my_list)\n",
    "\n",
    "#indexing and slicing\n",
    "my_list = [10, 20, 30, 40, 50]\n",
    "print(my_list[1])\n",
    "print(my_list[1:4])\n",
    "\n",
    "#comprehensive methods >> \n",
    "my_list = [3, 1, 4, 1, 5, 9, 11, 2]\n",
    "my_list.sort()\n",
    "print(my_list)\n",
    "\n",
    "#list comprehension >>\n",
    "cubes = [x**3 for x in range(8)]\n",
    "print(cubes)\n",
    "\n",
    "# There's many more use of lists.\n",
    "\n",
    "\n",
    "\n",
    "\n",
    "\n"
   ]
  },
  {
   "cell_type": "markdown",
   "metadata": {},
   "source": [
    "4. Compare and contrast tuples and lists with examples.\n",
    "\n",
    "Answer - \n",
    "\n",
    "    Lists and Tuples in Python are two classes of Python Data Structures. The list structure is dynamic, and readily changed whereas the tuple structure is static and cannot be changed. Tuple is generally faster than the list. Lists are denoted by square brackets[] and tuples are denoted with parenthesis().\n",
    "    The key differences and similarities are -> \n",
    "    Tuples consume less memory compared to lists.Lists consume more memory as they need space for dynamic resizing. \n",
    "    Lists are suitable for collections of items that may need to change during the program’s execution.\n",
    "    Tuples are suitable for fixed collections of items, such as coordinates, or to ensure that the data remains constant.\n",
    "    Lists have more built-in methods for manipulation, such as append(), remove(), sort(), etc.\n",
    "    Tuples have fewer methods, mainly for accessing elements like count() and index().\n",
    "    Tuples-iterate faster due to immutability, whereas lists is slower to iterate.\n",
    "    \n"
   ]
  },
  {
   "cell_type": "code",
   "execution_count": 4,
   "metadata": {},
   "outputs": [
    {
     "name": "stdout",
     "output_type": "stream",
     "text": [
      "[2, 3]\n",
      "(1, 2)\n"
     ]
    }
   ],
   "source": [
    "#syntax >> Both lists and tuples allow you to extract a subset of elements using slicing.\n",
    "lists = [1, 2, 3, 4, 5]\n",
    "tuples = (1, 2, 3, 4, 5)\n",
    "print(lists[1:3])\n",
    "print(tuples[:2])"
   ]
  },
  {
   "cell_type": "code",
   "execution_count": 43,
   "metadata": {},
   "outputs": [
    {
     "name": "stdout",
     "output_type": "stream",
     "text": [
      "[1, 20, 3]\n"
     ]
    },
    {
     "ename": "TypeError",
     "evalue": "'tuple' object does not support item assignment",
     "output_type": "error",
     "traceback": [
      "\u001b[1;31m---------------------------------------------------------------------------\u001b[0m",
      "\u001b[1;31mTypeError\u001b[0m                                 Traceback (most recent call last)",
      "Cell \u001b[1;32mIn[43], line 9\u001b[0m\n\u001b[0;32m      7\u001b[0m \u001b[38;5;66;03m# Tuple - Immutable\u001b[39;00m\n\u001b[0;32m      8\u001b[0m my_tuple \u001b[38;5;241m=\u001b[39m (\u001b[38;5;241m1\u001b[39m, \u001b[38;5;241m2\u001b[39m, \u001b[38;5;241m3\u001b[39m)\n\u001b[1;32m----> 9\u001b[0m \u001b[43mmy_tuple\u001b[49m\u001b[43m[\u001b[49m\u001b[38;5;241;43m1\u001b[39;49m\u001b[43m]\u001b[49m \u001b[38;5;241m=\u001b[39m \u001b[38;5;241m20\u001b[39m\n",
      "\u001b[1;31mTypeError\u001b[0m: 'tuple' object does not support item assignment"
     ]
    }
   ],
   "source": [
    "#Mutability >>\n",
    "# List - Mutable\n",
    "my_list = [1, 2, 3]\n",
    "my_list[1] = 20\n",
    "print(my_list)\n",
    "\n",
    "# Tuple - Immutable\n",
    "my_tuple = (1, 2, 3)\n",
    "my_tuple[1] = 20 #as tuple is immutable throwing error\n"
   ]
  },
  {
   "cell_type": "code",
   "execution_count": 1,
   "metadata": {},
   "outputs": [
    {
     "name": "stdout",
     "output_type": "stream",
     "text": [
      "[1, 2, 3, 4]\n",
      "2\n",
      "2\n"
     ]
    }
   ],
   "source": [
    "# List Methods\n",
    "my_list = [1, 2, 3]\n",
    "my_list.append(4)\n",
    "print(my_list)\n",
    "\n",
    "# Tuple Methods\n",
    "my_tuple = (1, 2, 3, 2)\n",
    "print(my_tuple.count(2))\n",
    "print(my_tuple.index(3))\n"
   ]
  },
  {
   "cell_type": "code",
   "execution_count": 3,
   "metadata": {},
   "outputs": [
    {
     "name": "stdout",
     "output_type": "stream",
     "text": [
      "[1, [2, 3], 4]\n",
      "(1, (2, 3), 4)\n"
     ]
    }
   ],
   "source": [
    "#Nested >> both tuples and lists can be nested within each other.\n",
    "# Nested List\n",
    "nested_list = [1, [2, 3], 4]\n",
    "\n",
    "# Nested Tuple\n",
    "nested_tuple = (1, (2, 3), 4)\n",
    "print(nested_list)\n",
    "print(nested_tuple)"
   ]
  },
  {
   "cell_type": "code",
   "execution_count": 13,
   "metadata": {},
   "outputs": [
    {
     "name": "stdout",
     "output_type": "stream",
     "text": [
      "['Justone', 'Singh']\n",
      "pwskills\n",
      "72\n",
      "56\n"
     ]
    }
   ],
   "source": [
    "#concatenation >> Both lists and tuples can be concatenated using the “+” operator.\n",
    "lists1 = [\"Justone\"] #Lists can also be extended with another list using the extend() method. \n",
    "lists2 = [\"Singh\"]\n",
    "#lists1.extend(lists2)\n",
    "#print(lists1)\n",
    "\n",
    "tuples1 = (\"pw\")\n",
    "tuples2 = (\"skills\")\n",
    "\n",
    "print(lists1 + lists2)\n",
    "print(tuples1 + tuples2)\n",
    "\n",
    "#whether memory efficient- lists or tuples\n",
    "import sys #allows operating on the interpreter as it provides access to the variables and functions that interact strongly with the interpreter.\n",
    "lists1 = []\n",
    "tuples1 = ()\n",
    "lists1 = [\"J\", \"Singh\"]\n",
    "tuples1 = (\"PW\", \"Skills\")\n",
    "print(sys.getsizeof(lists1))\n",
    "print(sys.getsizeof(tuples1))\n"
   ]
  },
  {
   "cell_type": "markdown",
   "metadata": {},
   "source": [
    "5. Describe the key features of sets and provide examples of their use.\n",
    "\n",
    "Answer -\n",
    "\n",
    "    Sets are used to store multiple items in a single variable. A set is a collection which is unordered, unchangeable(set items are unchangeable, but can remove and add items in it), and unindexed.Sets are written with curly brackets{}. \n",
    "    Key features of sets are --> unordered, unique elements, mutable, no indexing, optimized for membership testing, set operations, heterogeneous elements."
   ]
  },
  {
   "cell_type": "code",
   "execution_count": 29,
   "metadata": {},
   "outputs": [
    {
     "name": "stdout",
     "output_type": "stream",
     "text": [
      "{'papaya', 'guava', 'banana', 'watermelon'}\n",
      "{1, 2, 3, 4}\n",
      "{'kiwi', 'banana', 'papaya', 'apples', 'guava'}\n",
      "True\n",
      "False\n",
      "No need to buy it\n",
      "{1, 2, 3, 4, 5}\n",
      "{3}\n",
      "{1, 2}\n",
      "{1, 2, 4, 5}\n"
     ]
    },
    {
     "ename": "TypeError",
     "evalue": "'set' object is not subscriptable",
     "output_type": "error",
     "traceback": [
      "\u001b[1;31m---------------------------------------------------------------------------\u001b[0m",
      "\u001b[1;31mTypeError\u001b[0m                                 Traceback (most recent call last)",
      "Cell \u001b[1;32mIn[29], line 49\u001b[0m\n\u001b[0;32m     47\u001b[0m \u001b[38;5;66;03m#No indexing >> unordered, you access elements using indices.\u001b[39;00m\n\u001b[0;32m     48\u001b[0m num \u001b[38;5;241m=\u001b[39m {\u001b[38;5;241m1\u001b[39m, \u001b[38;5;241m2\u001b[39m, \u001b[38;5;241m3\u001b[39m, \u001b[38;5;241m4\u001b[39m}\n\u001b[1;32m---> 49\u001b[0m \u001b[43mnum\u001b[49m\u001b[43m[\u001b[49m\u001b[38;5;241;43m0\u001b[39;49m\u001b[43m]\u001b[49m \u001b[38;5;66;03m#this will raise error\u001b[39;00m\n",
      "\u001b[1;31mTypeError\u001b[0m: 'set' object is not subscriptable"
     ]
    }
   ],
   "source": [
    "#Unordered >> \n",
    "fruits = {\"papaya\", \"watermelon\", \"banana\", \"guava\"} \n",
    "print(fruits)\n",
    "\n",
    "#Unique elements >> automatically remove duplicate elements.\n",
    "num = {1, 2, 2, 3, 4, 4}\n",
    "print(num)\n",
    "\n",
    "#Mutable >> can add or remove elements.\n",
    "fruits = {\"papaya\", \"watermelon\", \"banana\", \"guava\"}\n",
    "fruits.add(\"apples\")\n",
    "fruits.add(\"kiwi\")\n",
    "fruits.remove(\"watermelon\")\n",
    "print(fruits)\n",
    "\n",
    "#Optimized for Membership Testing >> checking whether an element is in the set.\n",
    "my_set = {1, 2, 3}\n",
    "print(2 in my_set)\n",
    "print(4 in my_set)\n",
    "\n",
    "##checking in shopping list >>\n",
    "grocery_lists1 = {\"Tomato\", \"Pumpkin\", \"Beetroot\"}\n",
    "grocery_lists2 = {\"Eggplant\", \"Carrot\", \"Potato\"}\n",
    "if \"Tomato\" in grocery_lists2:\n",
    "    print(\"You need to buy it\")\n",
    "else:\n",
    "    print(\"No need to buy it\")\n",
    "\n",
    "#Set operations >> \n",
    "set_a = {1, 2, 3}\n",
    "set_b = {3, 4, 5}\n",
    "\n",
    "# Union\n",
    "print(set_a | set_b)\n",
    "\n",
    "# Intersection\n",
    "print(set_a & set_b)\n",
    "\n",
    "# Difference\n",
    "print(set_a - set_b)\n",
    "\n",
    "# Symmetric Difference\n",
    "print(set_a ^ set_b)\n",
    "\n",
    "\n",
    "#No indexing >> unordered, you access elements using indices.\n",
    "num = {1, 2, 3, 4}\n",
    "num[0] #this will raise error\n"
   ]
  },
  {
   "cell_type": "markdown",
   "metadata": {},
   "source": [
    "6. Discuss the use cases of tuples and sets in Python programming. \n",
    "\n",
    "Answer - \n",
    "\n",
    "    Both tuples and sets have their unique advantages and are used in different scenarios based on their properties.Tuples are ordered collections of elements, which are immutable (meaning they can't be changed once created). Sets, on the other hand, are unordered collections of unique elements.\n",
    "    Example Use Cases:\n",
    "Tuples:\n",
    "    Storing student information (name, age, grade) where the data should not be modified.\n",
    "    Representing coordinates (x, y).\n",
    "Sets:\n",
    "    Finding unique words in a text document.\n",
    "    Checking if a user has a specific permission in a system.\n",
    "    Combining multiple lists and removing duplicates."
   ]
  },
  {
   "cell_type": "code",
   "execution_count": 33,
   "metadata": {},
   "outputs": [
    {
     "name": "stdout",
     "output_type": "stream",
     "text": [
      "Park\n"
     ]
    }
   ],
   "source": [
    "#>> Tuples -\n",
    "# Immutable Data: Tuples are perfect for storing data that should not be changed. For example, representing coordinates, RGB color values, or database records.\n",
    "# Return Multiple Values: Functions can easily return multiple values as a tuple.\n",
    "# Dictionary Keys: Tuples can be used as dictionary keys because they are hashable (unlike lists).\n",
    "# Faster than Lists: In some cases, tuples can be slightly faster than lists.\n",
    "\n",
    "location = {(10, 20): \"Park\", (30, 40): \"Museum\"} #using tuples as dictionary keys\n",
    "print(location[(10, 20)]) \n",
    "\n",
    "person = (\"John\", \"Doe\", 30)\n",
    "# person[2] = 31  # This will raise a TypeError\n",
    "\n",
    "\n",
    "\n",
    "#>> Sets -\n",
    "# Unique Elements:Sets are ideal for storing unique values. For example, a list of unique usernames or product IDs.\n",
    "# Membership Testing:Checking if an element is in a set is very fast.\n",
    "# Set Operations:Sets support mathematical operations like union, intersection, and difference, which are useful for tasks such as filtering data or finding common elements between datasets.\n",
    "# Removing Duplicates:You can easily remove duplicates from a list by converting it to a set and then back to a list."
   ]
  },
  {
   "cell_type": "markdown",
   "metadata": {},
   "source": [
    "7. Describe how to add, modify, and delete items in dictionary with examples.\n",
    "\n",
    "Answer -\n",
    "\n",
    "    Dictionaries in Python is a data structure, used to store values in key: value format. This makes it different from lists, tuples, and arrays as in a dictionary each key has an associated value. Dictionary can be created by placing a sequence of elements within curly {} braces, separated by a ‘comma’.\n",
    "    The dictionary holds pairs of values, one being the Key and the other corresponding pair element being its Key:value. Values in a dictionary can be of any data type and can be duplicated, whereas keys can’t be repeated and must be immutable."
   ]
  },
  {
   "cell_type": "code",
   "execution_count": 43,
   "metadata": {},
   "outputs": [
    {
     "name": "stdout",
     "output_type": "stream",
     "text": [
      "{'name': 'Justone', 'age': 27, 'city': 'Kolkata'}\n",
      "{'name': 'Justone', 'age': 27, 'city': 'Kolkata', 'country': 'India'}\n",
      "Empty Dictionary: \n",
      "{}\n",
      "\n",
      "Dictionary after adding 3 elements: \n",
      "{0: 'pwskills', 2: 'For', 3: 1}\n",
      "\n",
      "Dictionary after adding 3 elements: \n",
      "{0: 'pwskills', 2: 'For', 3: 1, 'Value_set': (2, 3, 4)}\n",
      "\n",
      "Updated key value: \n",
      "{0: 'pwskills', 2: 'Welcome', 3: 1, 'Value_set': (2, 3, 4)}\n",
      "\n",
      "Adding a Nested Key: \n",
      "{0: 'pwskills', 2: 'Welcome', 3: 1, 'Value_set': (2, 3, 4), 5: {'Nested': {'1': 'Life', '2': 'Death'}}}\n",
      "{'name': 'Justone', 'age': '26'}\n",
      "{'name': 'Justone', 'age': 26}\n",
      "Accessing a element using key:\n",
      "For\n",
      "Accessing a element using key:\n",
      "pwskills\n"
     ]
    }
   ],
   "source": [
    "#Adding/Modifying items >> using assingment and update() method\n",
    "my_dict = {'name': 'Justone', 'age': 27}\n",
    "my_dict['city'] = 'Kolkata'\n",
    "print(my_dict)\n",
    "\n",
    "my_dict = {'name': 'Justone', 'age': 27}\n",
    "my_dict.update({'city': 'Kolkata', 'country': 'India'})\n",
    "print(my_dict)\n",
    "\n",
    "Dict = {}\n",
    "print(\"Empty Dictionary: \")\n",
    "print(Dict)\n",
    "Dict[0] = 'pwskills'\n",
    "Dict[2] = 'For'\n",
    "Dict[3] = 1\n",
    "print(\"\\nDictionary after adding 3 elements: \")\n",
    "print(Dict)\n",
    "\n",
    "Dict['Value_set'] = 2, 3, 4\n",
    "print(\"\\nDictionary after adding 3 elements: \")\n",
    "print(Dict)\n",
    "\n",
    "Dict[2] = 'Welcome'\n",
    "print(\"\\nUpdated key value: \")\n",
    "print(Dict)\n",
    "Dict[5] = {'Nested': {'1': 'Life', '2': 'Death'}}\n",
    "print(\"\\nAdding a Nested Key: \")\n",
    "print(Dict)\n",
    "\n",
    "##\n",
    "my_dict = {'name': 'Justone', 'age': 27}\n",
    "my_dict['age'] = '26'\n",
    "print(my_dict)\n",
    "\n",
    "my_dict = {'name': 'Justone', 'age': 27}\n",
    "my_dict.update({'age': 26})\n",
    "print(my_dict)\n",
    "\n",
    "#accessing elements >>\n",
    "Dict = {1: 'pwskills', 'name': 'For', 3: 'pwskills'}\n",
    "print(\"Accessing a element using key:\")\n",
    "print(Dict['name'])\n",
    "print(\"Accessing a element using key:\")\n",
    "print(Dict[1])\n"
   ]
  },
  {
   "cell_type": "code",
   "execution_count": 41,
   "metadata": {},
   "outputs": [
    {
     "name": "stdout",
     "output_type": "stream",
     "text": [
      "{'name': 'Justone', 'age': 27}\n",
      "{'name': 'Justone', 'city': 'Kolkata'}\n",
      "27\n",
      "{'name': 'Justone', 'age': 27}\n",
      "('city', 'Kolkata')\n",
      "{}\n"
     ]
    }
   ],
   "source": [
    "#Deleting items >> Using del Keyword, Using pop() Method The pop(),Using popitem() Method,Using clear() Method.\n",
    "\n",
    "#del\n",
    "my_dict = {'name': 'Justone', 'age': 27, 'city': 'Kolkata'}\n",
    "del my_dict['city']\n",
    "print(my_dict)\n",
    "#pop() >> removes a key-value pair and returns the value.\n",
    "my_dict = {'name': 'Justone', 'age': 27, 'city': 'Kolkata'}\n",
    "age = my_dict.pop('age')\n",
    "print(my_dict)\n",
    "print(age)\n",
    "#popitem() >> removes and returns the last inserted key-value pair as a tuple.\n",
    "my_dict = {'name': 'Justone', 'age': 27, 'city': 'Kolkata'}\n",
    "item = my_dict.popitem()\n",
    "print(my_dict)\n",
    "print(item)\n",
    "#clear() >> removes all items from the dictionary.\n",
    "my_dict = {'name': 'Justone', 'age': 27, 'city': 'Kolkata'}\n",
    "my_dict.clear()\n",
    "print(my_dict)"
   ]
  },
  {
   "cell_type": "markdown",
   "metadata": {},
   "source": [
    "8. Discuss the importance of dictionary keys being immutable and provide examples.\n",
    "\n",
    "Answer -\n",
    "\n",
    "    Dictionary keys must be immutable because they are used to calculate a unique hash value which allows for efficient lookups within the dictionary; if a key could change, its hash value could also change, making it impossible to reliably retrieve the associated value; examples of immutable types suitable as dictionary keys include strings, integers, and tuples, while mutable types like lists cannot be used as keys.\n",
    "    This requirement is crucial for several reasons.\n",
    "    "
   ]
  },
  {
   "cell_type": "code",
   "execution_count": 50,
   "metadata": {},
   "outputs": [
    {
     "name": "stdout",
     "output_type": "stream",
     "text": [
      "{1: 'one', 'two': 2, (3, 4): 'tuple'}\n",
      "justone\n"
     ]
    }
   ],
   "source": [
    "#Importance of Immutable Dictionary Keys >> \n",
    "\n",
    "##Hashability >> Dictionary keys must be hashable, meaning they must have a fixed hash value that doesn’t change over time.\n",
    "#Immutable objects like strings, numbers, and tuples have consistent hash values, making them suitable as dictionary keys.\n",
    "my_dict = {1: 'one', 'two': 2, (3, 4): 'tuple'}\n",
    "print(my_dict)\n",
    "\n",
    "##Consistency >> If dictionary keys were mutable, their values could change, leading to inconsistencies in the dictionary.\n",
    "#For example, if a list were used as a key and then modified, the dictionary would lose track of the key’s location.\n",
    "#my_dict = {[1, 2]: 'list'}  # This will raise a TypeError\n",
    "\n",
    "##Efficiency >> Dictionaries use hash tables for efficient data retrieval.Immutable keys ensure that the hash value remains constant, allowing for quick lookups.\n",
    "#Mutable keys would require rehashing, which would be inefficient and error-prone.\n",
    "my_dict = {'name': 'justone', 'age': 25}\n",
    "print(my_dict['name'])\n"
   ]
  },
  {
   "cell_type": "code",
   "execution_count": 57,
   "metadata": {},
   "outputs": [
    {
     "name": "stdout",
     "output_type": "stream",
     "text": [
      "Justone\n",
      "Answer to the Ultimate Question\n",
      "Tuple as key\n",
      "{(1, 2, 3): 'value'}\n"
     ]
    },
    {
     "ename": "TypeError",
     "evalue": "unhashable type: 'list'",
     "output_type": "error",
     "traceback": [
      "\u001b[1;31m---------------------------------------------------------------------------\u001b[0m",
      "\u001b[1;31mTypeError\u001b[0m                                 Traceback (most recent call last)",
      "Cell \u001b[1;32mIn[57], line 20\u001b[0m\n\u001b[0;32m     18\u001b[0m my_dict \u001b[38;5;241m=\u001b[39m {}\n\u001b[0;32m     19\u001b[0m key \u001b[38;5;241m=\u001b[39m [\u001b[38;5;241m1\u001b[39m, \u001b[38;5;241m2\u001b[39m, \u001b[38;5;241m3\u001b[39m] \n\u001b[1;32m---> 20\u001b[0m \u001b[43mmy_dict\u001b[49m\u001b[43m[\u001b[49m\u001b[43mkey\u001b[49m\u001b[43m]\u001b[49m \u001b[38;5;241m=\u001b[39m \u001b[38;5;124m'\u001b[39m\u001b[38;5;124mvalue\u001b[39m\u001b[38;5;124m'\u001b[39m  \u001b[38;5;66;03m# This will raise a TypeError: unhashable type: 'list'\u001b[39;00m\n",
      "\u001b[1;31mTypeError\u001b[0m: unhashable type: 'list'"
     ]
    }
   ],
   "source": [
    "#Using Immutable Keys >> Strings, numbers, and tuples are commonly used as dictionary keys because they are immutable.\n",
    "my_dict = {\n",
    "    'name': 'Justone',\n",
    "    42: 'Answer to the Ultimate Question',\n",
    "    (1, 2): 'Tuple as key'\n",
    "}\n",
    "print(my_dict['name'])\n",
    "print(my_dict[42])\n",
    "print(my_dict[(1, 2)])\n",
    "\n",
    "#Converting Mutable to Immutable >> to use a mutable object as a key,can convert it to an immutable type, such as converting a list to a tuple.\n",
    "my_dict = {}\n",
    "key = (1, 2, 3)  # Tuple is immutable\n",
    "my_dict[key] = 'value'\n",
    "print(my_dict)  # Output: {(1, 2, 3): 'value'}\n",
    "\n",
    "#Attempting to Use Mutable Keys >>\n",
    "my_dict = {}\n",
    "key = [1, 2, 3] \n",
    "my_dict[key] = 'value'  # This will raise a TypeError: unhashable type: 'list'\n",
    "\n",
    "#By ensuring that dictionary keys are immutable, Python maintains the integrity and efficiency of its dictionary operations.\n",
    "\n"
   ]
  },
  {
   "cell_type": "code",
   "execution_count": null,
   "metadata": {},
   "outputs": [],
   "source": []
  }
 ],
 "metadata": {
  "kernelspec": {
   "display_name": "Python 3 (ipykernel)",
   "language": "python",
   "name": "python3"
  },
  "language_info": {
   "codemirror_mode": {
    "name": "ipython",
    "version": 3
   },
   "file_extension": ".py",
   "mimetype": "text/x-python",
   "name": "python",
   "nbconvert_exporter": "python",
   "pygments_lexer": "ipython3",
   "version": "3.10.8"
  }
 },
 "nbformat": 4,
 "nbformat_minor": 4
}
